{
  "nbformat": 4,
  "nbformat_minor": 0,
  "metadata": {
    "colab": {
      "provenance": [],
      "authorship_tag": "ABX9TyOgcTkT7dLlqDMTLO71MjjI",
      "include_colab_link": true
    },
    "kernelspec": {
      "name": "python3",
      "display_name": "Python 3"
    },
    "language_info": {
      "name": "python"
    }
  },
  "cells": [
    {
      "cell_type": "markdown",
      "metadata": {
        "id": "view-in-github",
        "colab_type": "text"
      },
      "source": [
        "<a href=\"https://colab.research.google.com/github/M-bertin/MUHIRWA/blob/main/Untitled4.ipynb\" target=\"_parent\"><img src=\"https://colab.research.google.com/assets/colab-badge.svg\" alt=\"Open In Colab\"/></a>"
      ]
    },
    {
      "cell_type": "code",
      "execution_count": 7,
      "metadata": {
        "colab": {
          "base_uri": "https://localhost:8080/"
        },
        "id": "d3ArED_eErkK",
        "outputId": "635e0eca-f3ee-4ae4-8682-6be2270eb6b6"
      },
      "outputs": [
        {
          "output_type": "stream",
          "name": "stdout",
          "text": [
            "Phishing detection complete. ✅\n"
          ]
        }
      ],
      "source": [
        "import pandas as pd\n",
        "\n",
        "\n",
        "# Define phishing keywords\n",
        "phishing_keywords = [\"urgent\", \"password reset\", \"bank\", \"verify\", \"account suspended\"]\n",
        "#These are words commonly found in phishing emails.\n",
        "#The script will check if an email contains any of these words.\n",
        "\n",
        "# Load the dataset (uploaded file)\n",
        "emails = pd.read_csv(\"/content/2401001779-2409001146.csv\")\n",
        "if 'Content' in emails.columns:\n",
        "# Apply phishing detection\n",
        "       emails[\"is_phishing\"] = emails[\"Content\"].apply(\n",
        "           lambda x: any(keyword in str(x).lower() for keyword in phishing_keywords)\n",
        ")\n",
        "\n",
        "\n",
        "# Save the processed file\n",
        "       emails.to_csv(\"/content/analyzed_emails.csv\", index=False)\n",
        "       print(\"Phishing detection complete. ✅\")\n",
        "else:\n",
        "        print(\"Error: The 'content' column is missing from the dataset.\")"
      ]
    }
  ]
}