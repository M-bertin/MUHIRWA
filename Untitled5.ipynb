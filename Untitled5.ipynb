{
  "nbformat": 4,
  "nbformat_minor": 0,
  "metadata": {
    "colab": {
      "provenance": [],
      "authorship_tag": "ABX9TyNXntv0plbJBU8QyIIeovtz",
      "include_colab_link": true
    },
    "kernelspec": {
      "name": "python3",
      "display_name": "Python 3"
    },
    "language_info": {
      "name": "python"
    }
  },
  "cells": [
    {
      "cell_type": "markdown",
      "metadata": {
        "id": "view-in-github",
        "colab_type": "text"
      },
      "source": [
        "<a href=\"https://colab.research.google.com/github/M-bertin/MUHIRWA/blob/main/Untitled5.ipynb\" target=\"_parent\"><img src=\"https://colab.research.google.com/assets/colab-badge.svg\" alt=\"Open In Colab\"/></a>"
      ]
    },
    {
      "cell_type": "code",
      "source": [
        "offensive_words = [\"inyenzi\", \"cockroaches\", \"kill\", \"exterminate\", \"destroy\", \"traitors\", \"snakes\", \"rats\", \"hutu power\", \"tutsi\", \"ethnic cleansing\", \"wipe out\", \"enemy\", \"revenge\", \"impurity\", \"traitors\", \"infiltrators\", \"parasites\"]\n",
        "# Function to detect hate speech\n",
        "def detect_hate_speech(text):\n",
        "  detected_words = [word for word in offensive_words if word in text.lower()]\n",
        "  return detected_words\n",
        "# Example usage\n",
        "text = \"He said very harsh things so much so that the hearts of some people were hurt. He woke up the Hutu power, saying that if they do not cut the necks of the Tutsi it will be the Tutsi who will cut theirs. The speech he said made a lot of people worried because he clearly said to send the Tutsis along the Nyabarongo as a shortcut back to their home in Ethiopia. .\"\n",
        "hate_words = detect_hate_speech(text)\n",
        "if hate_words:\n",
        "  print(\"Hate speech detected! Offensive words:\", hate_words)\n",
        "else:\n",
        "  print(\"No hate speech detected.\")"
      ],
      "metadata": {
        "colab": {
          "base_uri": "https://localhost:8080/"
        },
        "id": "XOCGCH2aUiIn",
        "outputId": "54ddc326-f5b5-4044-9d96-fb95c549ba94"
      },
      "execution_count": 3,
      "outputs": [
        {
          "output_type": "stream",
          "name": "stdout",
          "text": [
            "Hate speech detected! Offensive words: ['hutu power', 'tutsi']\n"
          ]
        }
      ]
    }
  ]
}